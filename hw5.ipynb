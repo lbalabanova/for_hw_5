{
 "cells": [
  {
   "cell_type": "markdown",
   "metadata": {},
   "source": [
    "Домашнее задание к лекции Работа с файловой системой"
   ]
  },
  {
   "cell_type": "markdown",
   "metadata": {},
   "source": [
    "1) Переведите содержимое файла purchase_log.txt в словарь purchases вида:\n",
    "{‘1840e0b9d4’: ‘Продукты’, …}\n",
    "\n",
    "Учтите условия на данные:\n",
    "содержимое purchase_log.txt помещается в оперативную память компьютера\n",
    "содержимое visit_log.csv - нет; используйте только построчную обработку этого файла"
   ]
  },
  {
   "cell_type": "code",
   "execution_count": 1,
   "metadata": {},
   "outputs": [],
   "source": [
    "# открываем файл для чтения \n",
    "f = open('purchase_log.txt', 'r', encoding='utf-8')"
   ]
  },
  {
   "cell_type": "code",
   "execution_count": 2,
   "metadata": {},
   "outputs": [
    {
     "name": "stdout",
     "output_type": "stream",
     "text": [
      "0 {\"user_id\": \"user_id\", \"category\": \"category\"}\n",
      "\n",
      "1 {\"user_id\": \"1840e0b9d4\", \"category\": \"Продукты\"}\n",
      "\n",
      "2 {\"user_id\": \"4e4f90fcfb\", \"category\": \"Электроника\"}\n",
      "\n",
      "3 {\"user_id\": \"afea8d72fc\", \"category\": \"Электроника\"}\n",
      "\n",
      "4 {\"user_id\": \"373a6055fe\", \"category\": \"Бытовая техника\"}\n",
      "\n",
      "5 {\"user_id\": \"9b2ab046f3\", \"category\": \"Электроника\"}\n",
      "\n",
      "6 {\"user_id\": \"9f39d307c3\", \"category\": \"Электроника\"}\n",
      "\n"
     ]
    }
   ],
   "source": [
    "# смотрим первые пять строчек, чтобы понять структуру данных\n",
    "for i, line in enumerate(f):\n",
    "    print(i, line)\n",
    "    \n",
    "    if i > 5:\n",
    "        break"
   ]
  },
  {
   "cell_type": "code",
   "execution_count": 4,
   "metadata": {},
   "outputs": [],
   "source": [
    "import json #так как видим в данных словари, импортируем модуль json"
   ]
  },
  {
   "cell_type": "code",
   "execution_count": 137,
   "metadata": {},
   "outputs": [
    {
     "name": "stdout",
     "output_type": "stream",
     "text": [
      "{'1840e0b9d4': 'Продукты', '4e4f90fcfb': 'Электроника', 'afea8d72fc': 'Электроника', '373a6055fe': 'Бытовая техника', '9b2ab046f3': 'Электроника', '9f39d307c3': 'Электроника', '44edeffc91': 'Продукты', '704474fa2d': 'Продукты', '1de31be403': 'Бытовая техника', 'b71f36a5e4': 'Продукты', '79843a685a': 'Продукты', 'ff68cee0d6': 'Бытовая техника', 'e8447c40e2': 'Досуг', '98d290be27': 'Электроника', 'fa0079a5a8': 'Досуг', '22d2f03a17': 'Досуг', '3f8e1ccd3f': 'Электроника', '81a9988b83': 'Электроника', '65f44a2eb7': 'Досуг', '5f8fbb0149': 'Бытовая техника', '3ecff691fd': 'Электроника', 'dd0e912251': 'Электроника', '9250593d55': 'Электроника', '37c4e090e4': 'Электроника', '22fa3ea76f': 'Электроника', '73b876b237': 'Электроника', 'f983a69d67': 'Товары для животных', '4ea17212f8': 'Продукты', 'c6de96a5e2': 'Товары для животных', 'd8e3bcee53': 'Продукты', '680aa815f9': 'Продукты', '4a92a68cf9': 'Электроника', '905e60cb52': 'Бытовая техника', '393bcfb298': 'Продукты', '06d450cc57': 'Электроника', 'b60ce22f17': 'Электроника', '6f159c4c2e': 'Товары для животных', '564202f6bd': 'Электроника', '1908683775': 'Электроника', '8fd957a463': 'Продукты', '72e0a3f1d0': 'Бытовая техника', '7f5f56e517': 'Досуг', 'bc1a0a7e26': 'Досуг', '17639fe89d': 'Досуг', '74c9201f84': 'Электроника', 'bc4ebda0df': 'Досуг', 'fe4615dd15': 'Досуг', 'd2c560746d': 'Бытовая техника', 'f0a93d52d2': 'Электроника', 'fe52ded300': 'Электроника', 'dbe70d84e4': 'Строительство и ремонт', 'f660dbcc3f': 'Электроника', 'f93283c9ee': 'Бытовая техника', '66bea9bf58': 'Бытовая техника', '111c52d9bc': 'Продукты', '16dc76e94d': 'Электроника', '87f37b380c': 'Продукты', '830421d975': 'Продукты', '7d6c62f0a2': 'Бытовая техника', '77465a0b61': 'Бытовая техника', 'ee9eb52181': 'Товары для животных', '871c1fa9ae': 'Продукты', '03b91dba06': 'Электроника', '6cb42b2632': 'Бытовая техника', '9ab8f3bbb8': 'Бытовая техника', '63df9ee9d3': 'Электроника', '2ffd6c724d': 'Продукты', 'af24cffd03': 'Электроника', '421149bb9a': 'Строительство и ремонт', '24300c6d1c': 'Электроника', '9ca11a651f': 'Электроника', 'b7e640032f': 'Электроника', '3691ad282b': 'Электроника', '00ea2f7484': 'Электроника', '6f198ac1c9': 'Бытовая техника', '0d479d4259': 'Электроника', 'b461051101': 'Досуг', 'd39a1d56c3': 'Бытовая техника', '316ab03143': 'Товары для животных', '78ed39a415': 'Электроника', '19d1e4e036': 'Товары для животных', '9e765c6822': 'Продукты', 'ddd50eaa45': 'Электроника', 'c21b82499e': 'Электроника', 'da79d9ff30': 'Товары для животных', 'eded5c6792': 'Досуг', 'e3654c7f1a': 'Досуг', 'd20bf10c78': 'Бытовая техника', '12de58d8e6': 'Продукты', 'de85ea0eb6': 'Электроника', 'dfe6f4ebb4': 'Бытовая техника', '9d25ac3886': 'Досуг', 'd47dd8b814': 'Электроника', 'c5e1bf636a': 'Электроника', 'a86e69db63': 'Продукты', '91802f78b2': 'Электроника', '152ea9bb42': 'Бытовая техника', '06569907e6': 'Бытовая техника', '9f5bf9b73f': 'Строительство и ремонт', 'ec11793734': 'Продукты'}\n"
     ]
    }
   ],
   "source": [
    "#ВАРИАНТ 1\n",
    "\n",
    "i = 0\n",
    "res = {} #итоговый словарь, куда будут выводиться результаты\n",
    "\n",
    "with open('purchase_log.txt', 'r', encoding='utf-8') as f: #открываем файл для чтения\n",
    "    for line in f:\n",
    "        line = line.strip() #удираем лишние пробелы \n",
    "        dict_ = json.loads(line) #из каждой строки создаем словарь\n",
    "        key1 = dict_['user_id'] #в качестве нового ключа используем user_id\n",
    "        value1 = dict_['category'] #в качестве значения словаря - поле category\n",
    "        res[key1] = value1 #наполняем словарь\n",
    "        \n",
    "        i += 1\n",
    "        if i > 100: # сделала прерывание на 100, так как если не прервать, то переполняется и ошибка\n",
    "            break\n",
    "            \n",
    "del res['user_id'] #убираю первую запись, так как это названия столбцов\n",
    "\n",
    "print(res) #вывод результата"
   ]
  },
  {
   "cell_type": "markdown",
   "metadata": {},
   "source": [
    "Тескст ошибки, если не прервать вывод:\n",
    "IOPub data rate exceeded.\n",
    "The notebook server will temporarily stop sending output\n",
    "to the client in order to avoid crashing it.\n",
    "To change this limit, set the config variable\n",
    "`--NotebookApp.iopub_data_rate_limit`.\n",
    "\n",
    "Current values:\n",
    "NotebookApp.iopub_data_rate_limit=1000000.0 (bytes/sec)\n",
    "NotebookApp.rate_limit_window=3.0 (secs)"
   ]
  },
  {
   "cell_type": "code",
   "execution_count": 105,
   "metadata": {},
   "outputs": [
    {
     "name": "stdout",
     "output_type": "stream",
     "text": [
      "100000\n"
     ]
    }
   ],
   "source": [
    "# ВАРИАНТ 2 через content\n",
    " \n",
    "f = open('purchase_log.txt', 'r', encoding='utf-8')\n",
    "content = f.readlines()\n",
    "# print(len(content)) посмотрела длину файла\n",
    "\n",
    "#i = 0\n",
    "purchases_dict = {} #итоговый словарь, куда будут выводиться результаты\n",
    "\n",
    "for line in content:\n",
    "    line = line.strip() #удираем лишние пробелы \n",
    "    dict_ = json.loads(line) #из каждой строки создаем словарь\n",
    "    key1 = dict_['user_id'] #в качестве нового ключа используем user_id\n",
    "    value1 = dict_['category'] #в качестве значения словаря - поле category\n",
    "    purchases_dict[key1] = value1 #наполняем словарь\n",
    "            \n",
    "del purchases_dict['user_id'] #убираю первую запись, так как это названия столбцов\n",
    "#print(purchases_dict) #вывод результата не делаю"
   ]
  },
  {
   "cell_type": "markdown",
   "metadata": {},
   "source": [
    "2) Для каждого user_id в файле visit_log.csv определите третий столбец с категорией покупки (если покупка была, сам файл visit_log.csv изменять не надо). Запишите в файл funnel.csv визиты из файла visit_log.csv, в которых были покупки с указанием категории."
   ]
  },
  {
   "cell_type": "code",
   "execution_count": 140,
   "metadata": {},
   "outputs": [],
   "source": [
    "#i = 0\n",
    "with open('visit_log.csv', 'r') as f: #открываем файл на чтение\n",
    "    with open('funnel.csv', 'w') as f2write:  #открываем файл на запись\n",
    "        f2write.write('user_id,source,category\\n')  #первая строка - заголовки столбцов\n",
    "        for line in f:\n",
    "            my_list = line.strip().split(',')       #переводим каждую строку файла с посещениями в список\n",
    "            user_id = str(my_list[0])               #находим ID пользователя\n",
    "            if user_id in purchases_dict.keys():    #проверяем, есть ли у него покупка\n",
    "                line2 = line.strip() + ',' + purchases_dict.get(user_id) + '\\n'   #если есть, то добавляем категорию покупки\n",
    "                f2write.write(line2)                #записываем в итоговый файл\n",
    "            #i += 1\n",
    "            #if i >100: break\n",
    "        \n",
    "                   "
   ]
  },
  {
   "cell_type": "code",
   "execution_count": 141,
   "metadata": {},
   "outputs": [
    {
     "name": "stdout",
     "output_type": "stream",
     "text": [
      "0 user_id,source,category\n",
      "\n",
      "1 1840e0b9d4,other,Продукты\n",
      "\n",
      "2 4e4f90fcfb,context,Электроника\n",
      "\n",
      "3 afea8d72fc,other,Электроника\n",
      "\n",
      "4 2824221f38,email,Продукты\n",
      "\n",
      "5 373a6055fe,other,Бытовая техника\n",
      "\n",
      "6 9b2ab046f3,other,Электроника\n",
      "\n",
      "7 9f39d307c3,context,Электроника\n",
      "\n",
      "8 44edeffc91,context,Продукты\n",
      "\n",
      "9 704474fa2d,other,Продукты\n",
      "\n",
      "10 1de31be403,other,Бытовая техника\n",
      "\n",
      "11 5da0dedf13,context,Досуг\n",
      "\n",
      "12 b71f36a5e4,other,Продукты\n",
      "\n",
      "13 79843a685a,context,Продукты\n",
      "\n",
      "14 ff68cee0d6,context,Бытовая техника\n",
      "\n",
      "15 e8447c40e2,email,Досуг\n",
      "\n",
      "16 b9ef8fdf47,other,Продукты\n",
      "\n",
      "17 98d290be27,other,Электроника\n",
      "\n",
      "18 3fff459bda,other,Электроника\n",
      "\n",
      "19 fa0079a5a8,other,Досуг\n",
      "\n",
      "20 fdd6b2fc76,context,Бытовая техника\n",
      "\n",
      "21 54ecd881a2,other,Бытовая техника\n",
      "\n"
     ]
    }
   ],
   "source": [
    "f3 = open('funnel.csv', 'r') #проверяем, что получилось\n",
    "for i, line in enumerate(f3):\n",
    "    print(i, line)\n",
    "    \n",
    "    if i > 20:\n",
    "        break"
   ]
  },
  {
   "cell_type": "code",
   "execution_count": null,
   "metadata": {},
   "outputs": [],
   "source": []
  }
 ],
 "metadata": {
  "kernelspec": {
   "display_name": "Python 3",
   "language": "python",
   "name": "python3"
  },
  "language_info": {
   "codemirror_mode": {
    "name": "ipython",
    "version": 3
   },
   "file_extension": ".py",
   "mimetype": "text/x-python",
   "name": "python",
   "nbconvert_exporter": "python",
   "pygments_lexer": "ipython3",
   "version": "3.8.3"
  }
 },
 "nbformat": 4,
 "nbformat_minor": 4
}
